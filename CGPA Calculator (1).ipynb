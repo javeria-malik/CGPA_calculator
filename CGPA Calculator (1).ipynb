{
 "cells": [
  {
   "cell_type": "code",
   "execution_count": 2,
   "id": "3c481660",
   "metadata": {},
   "outputs": [],
   "source": [
    "# form dictionary\n",
    "grade_table={\n",
    "   \"A+\": 4.0,\n",
    "    \"A\": 3.7,\n",
    "    \"A-\": 3.3,\n",
    "    \"B+\": 3.0,\n",
    "    \"B\": 2.7,\n",
    "    \"B-\": 2.3,\n",
    "    \"C+\": 2.0,\n",
    "    \"C\": 1.7,\n",
    "    \"C-\": 1.3,\n",
    "    \"D\": 1.0,\n",
    "    \"F\": 0.0\n",
    "}\n"
   ]
  },
  {
   "cell_type": "code",
   "execution_count": null,
   "id": "68e18b68",
   "metadata": {},
   "outputs": [],
   "source": [
    "# now get input \n",
    "num_courses=int(input(\"ENTER YOUR TOTAL NUMBER OF COURSES\"))\n",
    "grades=[]\n",
    "credit_hours=[]\n",
    "# now calculate the GPA\n",
    "for i in range(num_courses):\n",
    "    grade=input(f\"enter your grade of course{i+1}:\").upper()\n",
    "    while grade not in grade_table:\n",
    "        grade=input(f\"invalid again.enter the grade for course{i+1} again:\").upper()\n",
    "    grades.append(grade_table[grade])\n",
    "    credit_hour = float(input(f\"Enter the credit hours for course {i+1}: \"))\n",
    "    credit_hours.append(credit_hour)\n",
    "# calculate total grade point\n",
    "total_grade_points = sum([grades[i] * credit_hours[i] for i in range(num_courses)])\n",
    "total_credit_hours = sum(credit_hours)\n",
    "#CALculate cgpa \n",
    "cgpa=round(total_grade_points / total_credit_hours, 3)\n",
    "print(f\"your cgpa is:{cgpa}\")\n",
    "        \n",
    "        \n"
   ]
  },
  {
   "cell_type": "code",
   "execution_count": null,
   "id": "62498a8f",
   "metadata": {},
   "outputs": [],
   "source": []
  },
  {
   "cell_type": "code",
   "execution_count": null,
   "id": "e8a51844",
   "metadata": {},
   "outputs": [],
   "source": []
  }
 ],
 "metadata": {
  "kernelspec": {
   "display_name": "Python 3",
   "language": "python",
   "name": "python3"
  },
  "language_info": {
   "codemirror_mode": {
    "name": "ipython",
    "version": 3
   },
   "file_extension": ".py",
   "mimetype": "text/x-python",
   "name": "python",
   "nbconvert_exporter": "python",
   "pygments_lexer": "ipython3",
   "version": "3.8.8"
  }
 },
 "nbformat": 4,
 "nbformat_minor": 5
}
